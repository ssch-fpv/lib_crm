{
 "metadata": {
  "language_info": {
   "codemirror_mode": {
    "name": "ipython",
    "version": 3
   },
   "file_extension": ".py",
   "mimetype": "text/x-python",
   "name": "python",
   "nbconvert_exporter": "python",
   "pygments_lexer": "ipython3",
   "version": "3.8.8"
  },
  "orig_nbformat": 2,
  "kernelspec": {
   "name": "python388jvsc74a57bd09f8bf211a46f4395c1e3414e51bb83427c2d6bcbf4ab5862895923a42fd6a2f3",
   "display_name": "Python 3.8.8 64-bit ('py38': conda)"
  }
 },
 "nbformat": 4,
 "nbformat_minor": 2,
 "cells": [
  {
   "cell_type": "code",
   "execution_count": 1,
   "metadata": {},
   "outputs": [],
   "source": [
    "import pandas as pd\n",
    "import numpy as np"
   ]
  },
  {
   "cell_type": "code",
   "execution_count": 1,
   "metadata": {},
   "outputs": [
    {
     "output_type": "stream",
     "name": "stdout",
     "text": [
      "hello git\n"
     ]
    }
   ],
   "source": [
    "print(\"hello git\")"
   ]
  },
  {
   "cell_type": "code",
   "execution_count": 2,
   "metadata": {},
   "outputs": [],
   "source": [
    "df=pd.read_csv('data/GRAPH_RESTI_202105042000.csv', sep='|')\n",
    "df1=pd.read_csv('data/GRAPH_RESTI_202105042000.csv', sep='|')"
   ]
  },
  {
   "cell_type": "code",
   "execution_count": 3,
   "metadata": {},
   "outputs": [],
   "source": [
    "df['key'] = 1\n",
    "df1['key'] = 1"
   ]
  },
  {
   "cell_type": "code",
   "execution_count": 4,
   "metadata": {},
   "outputs": [],
   "source": [
    "def f_datum(y,x):\n",
    "    d=str(y)+'-'+str(x)\n",
    "    return d"
   ]
  },
  {
   "cell_type": "code",
   "execution_count": 5,
   "metadata": {},
   "outputs": [],
   "source": [
    "df['DATUM_JMT_ZEIT'] = df.apply(lambda x: f_datum(x['DATUM_JMT'], x['ZEIT']),axis=1)"
   ]
  },
  {
   "cell_type": "code",
   "execution_count": 6,
   "metadata": {},
   "outputs": [
    {
     "output_type": "execute_result",
     "data": {
      "text/plain": [
       "   DATUM_JMT            DATUM_SAS  JAHR_WOCHE  JAHR_MONAT  VST_ID  \\\n",
       "0   20190102  2019-01-02 00:00:00      201901      201901    2410   \n",
       "1   20190102  2019-01-02 00:00:00      201901      201901    2410   \n",
       "2   20190102  2019-01-02 00:00:00      201901      201901    2410   \n",
       "3   20190102  2019-01-02 00:00:00      201901      201901    2410   \n",
       "4   20190102  2019-01-02 00:00:00      201901      201901    2410   \n",
       "\n",
       "                            KASSABON_ID    ZEIT  PROGRAMMTEILNAHME_ID  N_ART  \\\n",
       "0  201901020000002410000000000100000096  113336               2132240      2   \n",
       "1  201901020000002410000000000100000097  113352               1302295      3   \n",
       "2  201901020000002410000000000100000119  113953               5279153      2   \n",
       "3  201901020000002410000000000100000121  114057               4933906      1   \n",
       "4  201901020000002410000000000100000124  114125               4736730      1   \n",
       "\n",
       "   key   DATUM_JMT_ZEIT  \n",
       "0    1  20190102-113336  \n",
       "1    1  20190102-113352  \n",
       "2    1  20190102-113953  \n",
       "3    1  20190102-114057  \n",
       "4    1  20190102-114125  "
      ],
      "text/html": "<div>\n<style scoped>\n    .dataframe tbody tr th:only-of-type {\n        vertical-align: middle;\n    }\n\n    .dataframe tbody tr th {\n        vertical-align: top;\n    }\n\n    .dataframe thead th {\n        text-align: right;\n    }\n</style>\n<table border=\"1\" class=\"dataframe\">\n  <thead>\n    <tr style=\"text-align: right;\">\n      <th></th>\n      <th>DATUM_JMT</th>\n      <th>DATUM_SAS</th>\n      <th>JAHR_WOCHE</th>\n      <th>JAHR_MONAT</th>\n      <th>VST_ID</th>\n      <th>KASSABON_ID</th>\n      <th>ZEIT</th>\n      <th>PROGRAMMTEILNAHME_ID</th>\n      <th>N_ART</th>\n      <th>key</th>\n      <th>DATUM_JMT_ZEIT</th>\n    </tr>\n  </thead>\n  <tbody>\n    <tr>\n      <th>0</th>\n      <td>20190102</td>\n      <td>2019-01-02 00:00:00</td>\n      <td>201901</td>\n      <td>201901</td>\n      <td>2410</td>\n      <td>201901020000002410000000000100000096</td>\n      <td>113336</td>\n      <td>2132240</td>\n      <td>2</td>\n      <td>1</td>\n      <td>20190102-113336</td>\n    </tr>\n    <tr>\n      <th>1</th>\n      <td>20190102</td>\n      <td>2019-01-02 00:00:00</td>\n      <td>201901</td>\n      <td>201901</td>\n      <td>2410</td>\n      <td>201901020000002410000000000100000097</td>\n      <td>113352</td>\n      <td>1302295</td>\n      <td>3</td>\n      <td>1</td>\n      <td>20190102-113352</td>\n    </tr>\n    <tr>\n      <th>2</th>\n      <td>20190102</td>\n      <td>2019-01-02 00:00:00</td>\n      <td>201901</td>\n      <td>201901</td>\n      <td>2410</td>\n      <td>201901020000002410000000000100000119</td>\n      <td>113953</td>\n      <td>5279153</td>\n      <td>2</td>\n      <td>1</td>\n      <td>20190102-113953</td>\n    </tr>\n    <tr>\n      <th>3</th>\n      <td>20190102</td>\n      <td>2019-01-02 00:00:00</td>\n      <td>201901</td>\n      <td>201901</td>\n      <td>2410</td>\n      <td>201901020000002410000000000100000121</td>\n      <td>114057</td>\n      <td>4933906</td>\n      <td>1</td>\n      <td>1</td>\n      <td>20190102-114057</td>\n    </tr>\n    <tr>\n      <th>4</th>\n      <td>20190102</td>\n      <td>2019-01-02 00:00:00</td>\n      <td>201901</td>\n      <td>201901</td>\n      <td>2410</td>\n      <td>201901020000002410000000000100000124</td>\n      <td>114125</td>\n      <td>4736730</td>\n      <td>1</td>\n      <td>1</td>\n      <td>20190102-114125</td>\n    </tr>\n  </tbody>\n</table>\n</div>"
     },
     "metadata": {},
     "execution_count": 6
    }
   ],
   "source": [
    "df.head()"
   ]
  },
  {
   "cell_type": "code",
   "execution_count": 7,
   "metadata": {},
   "outputs": [],
   "source": [
    "df['timestamp'] = pd.to_datetime(df['DATUM_JMT_ZEIT'],format='%Y%m%d-%H%M%S')"
   ]
  },
  {
   "cell_type": "code",
   "execution_count": 34,
   "metadata": {},
   "outputs": [
    {
     "output_type": "execute_result",
     "data": {
      "text/plain": [
       "   DATUM_JMT            DATUM_SAS  JAHR_WOCHE  JAHR_MONAT  VST_ID  \\\n",
       "0   20190102  2019-01-02 00:00:00      201901      201901    2410   \n",
       "1   20190102  2019-01-02 00:00:00      201901      201901    2410   \n",
       "2   20190102  2019-01-02 00:00:00      201901      201901    2410   \n",
       "3   20190102  2019-01-02 00:00:00      201901      201901    2410   \n",
       "4   20190102  2019-01-02 00:00:00      201901      201901    2410   \n",
       "\n",
       "                            KASSABON_ID    ZEIT  PROGRAMMTEILNAHME_ID  N_ART  \\\n",
       "0  201901020000002410000000000100000096  113336               2132240      2   \n",
       "1  201901020000002410000000000100000097  113352               1302295      3   \n",
       "2  201901020000002410000000000100000119  113953               5279153      2   \n",
       "3  201901020000002410000000000100000121  114057               4933906      1   \n",
       "4  201901020000002410000000000100000124  114125               4736730      1   \n",
       "\n",
       "            timestamp   DATUM_JMT_ZEIT  \n",
       "0 2019-01-02 11:33:36  20190102-113336  \n",
       "1 2019-01-02 11:33:52  20190102-113352  \n",
       "2 2019-01-02 11:39:53  20190102-113953  \n",
       "3 2019-01-02 11:40:57  20190102-114057  \n",
       "4 2019-01-02 11:41:25  20190102-114125  "
      ],
      "text/html": "<div>\n<style scoped>\n    .dataframe tbody tr th:only-of-type {\n        vertical-align: middle;\n    }\n\n    .dataframe tbody tr th {\n        vertical-align: top;\n    }\n\n    .dataframe thead th {\n        text-align: right;\n    }\n</style>\n<table border=\"1\" class=\"dataframe\">\n  <thead>\n    <tr style=\"text-align: right;\">\n      <th></th>\n      <th>DATUM_JMT</th>\n      <th>DATUM_SAS</th>\n      <th>JAHR_WOCHE</th>\n      <th>JAHR_MONAT</th>\n      <th>VST_ID</th>\n      <th>KASSABON_ID</th>\n      <th>ZEIT</th>\n      <th>PROGRAMMTEILNAHME_ID</th>\n      <th>N_ART</th>\n      <th>timestamp</th>\n      <th>DATUM_JMT_ZEIT</th>\n    </tr>\n  </thead>\n  <tbody>\n    <tr>\n      <th>0</th>\n      <td>20190102</td>\n      <td>2019-01-02 00:00:00</td>\n      <td>201901</td>\n      <td>201901</td>\n      <td>2410</td>\n      <td>201901020000002410000000000100000096</td>\n      <td>113336</td>\n      <td>2132240</td>\n      <td>2</td>\n      <td>2019-01-02 11:33:36</td>\n      <td>20190102-113336</td>\n    </tr>\n    <tr>\n      <th>1</th>\n      <td>20190102</td>\n      <td>2019-01-02 00:00:00</td>\n      <td>201901</td>\n      <td>201901</td>\n      <td>2410</td>\n      <td>201901020000002410000000000100000097</td>\n      <td>113352</td>\n      <td>1302295</td>\n      <td>3</td>\n      <td>2019-01-02 11:33:52</td>\n      <td>20190102-113352</td>\n    </tr>\n    <tr>\n      <th>2</th>\n      <td>20190102</td>\n      <td>2019-01-02 00:00:00</td>\n      <td>201901</td>\n      <td>201901</td>\n      <td>2410</td>\n      <td>201901020000002410000000000100000119</td>\n      <td>113953</td>\n      <td>5279153</td>\n      <td>2</td>\n      <td>2019-01-02 11:39:53</td>\n      <td>20190102-113953</td>\n    </tr>\n    <tr>\n      <th>3</th>\n      <td>20190102</td>\n      <td>2019-01-02 00:00:00</td>\n      <td>201901</td>\n      <td>201901</td>\n      <td>2410</td>\n      <td>201901020000002410000000000100000121</td>\n      <td>114057</td>\n      <td>4933906</td>\n      <td>1</td>\n      <td>2019-01-02 11:40:57</td>\n      <td>20190102-114057</td>\n    </tr>\n    <tr>\n      <th>4</th>\n      <td>20190102</td>\n      <td>2019-01-02 00:00:00</td>\n      <td>201901</td>\n      <td>201901</td>\n      <td>2410</td>\n      <td>201901020000002410000000000100000124</td>\n      <td>114125</td>\n      <td>4736730</td>\n      <td>1</td>\n      <td>2019-01-02 11:41:25</td>\n      <td>20190102-114125</td>\n    </tr>\n  </tbody>\n</table>\n</div>"
     },
     "metadata": {},
     "execution_count": 34
    }
   ],
   "source": [
    "df.head()"
   ]
  },
  {
   "cell_type": "code",
   "execution_count": 4,
   "metadata": {},
   "outputs": [
    {
     "output_type": "execute_result",
     "data": {
      "text/plain": [
       "107637"
      ]
     },
     "metadata": {},
     "execution_count": 4
    }
   ],
   "source": [
    "len(df.KASSABON_ID.unique())"
   ]
  },
  {
   "cell_type": "code",
   "execution_count": 8,
   "metadata": {},
   "outputs": [],
   "source": [
    "result = pd.merge(df, df1, on ='key').drop(\"key\", 1)"
   ]
  },
  {
   "cell_type": "code",
   "execution_count": 59,
   "metadata": {},
   "outputs": [
    {
     "output_type": "execute_result",
     "data": {
      "text/plain": [
       "        DATUM_JMT_x          DATUM_SAS_x  JAHR_WOCHE_x  JAHR_MONAT_x  \\\n",
       "0          20190102  2019-01-02 00:00:00        201901        201901   \n",
       "1          20190102  2019-01-02 00:00:00        201901        201901   \n",
       "2          20190102  2019-01-02 00:00:00        201901        201901   \n",
       "3          20190102  2019-01-02 00:00:00        201901        201901   \n",
       "4          20190102  2019-01-02 00:00:00        201901        201901   \n",
       "...             ...                  ...           ...           ...   \n",
       "107632     20191231  2019-12-31 00:00:00        202001        201912   \n",
       "107633     20191231  2019-12-31 00:00:00        202001        201912   \n",
       "107634     20191231  2019-12-31 00:00:00        202001        201912   \n",
       "107635     20191231  2019-12-31 00:00:00        202001        201912   \n",
       "107636     20191231  2019-12-31 00:00:00        202001        201912   \n",
       "\n",
       "        VST_ID_x  ZEIT_x  PROGRAMMTEILNAHME_ID_x  N_ART_x   DATUM_JMT_ZEIT  \\\n",
       "0           2410  113336                 2132240        2  20190102-113336   \n",
       "1           2410  113352                 1302295        3  20190102-113352   \n",
       "2           2410  113953                 5279153        2  20190102-113953   \n",
       "3           2410  114057                 4933906        1  20190102-114057   \n",
       "4           2410  114125                 4736730        1  20190102-114125   \n",
       "...          ...     ...                     ...      ...              ...   \n",
       "107632      2410   94141                 5241068        2   20191231-94141   \n",
       "107633      2410  110722                 3577253        5  20191231-110722   \n",
       "107634      2410  114641                 4742572        1  20191231-114641   \n",
       "107635      2410  120322                 4205175        3  20191231-120322   \n",
       "107636      2410  120755                  472646        3  20191231-120755   \n",
       "\n",
       "        DATUM_JMT_y          DATUM_SAS_y  JAHR_WOCHE_y  JAHR_MONAT_y  \\\n",
       "0          20190102  2019-01-02 00:00:00        201901        201901   \n",
       "1          20190102  2019-01-02 00:00:00        201901        201901   \n",
       "2          20190102  2019-01-02 00:00:00        201901        201901   \n",
       "3          20190102  2019-01-02 00:00:00        201901        201901   \n",
       "4          20190102  2019-01-02 00:00:00        201901        201901   \n",
       "...             ...                  ...           ...           ...   \n",
       "107632     20191231  2019-12-31 00:00:00        202001        201912   \n",
       "107633     20191231  2019-12-31 00:00:00        202001        201912   \n",
       "107634     20191231  2019-12-31 00:00:00        202001        201912   \n",
       "107635     20191231  2019-12-31 00:00:00        202001        201912   \n",
       "107636     20191231  2019-12-31 00:00:00        202001        201912   \n",
       "\n",
       "        VST_ID_y  ZEIT_y  PROGRAMMTEILNAHME_ID_y  N_ART_y  \n",
       "0           2410  113336                 2132240        2  \n",
       "1           2410  113352                 1302295        3  \n",
       "2           2410  113953                 5279153        2  \n",
       "3           2410  114057                 4933906        1  \n",
       "4           2410  114125                 4736730        1  \n",
       "...          ...     ...                     ...      ...  \n",
       "107632      2410   94141                 5241068        2  \n",
       "107633      2410  110722                 3577253        5  \n",
       "107634      2410  114641                 4742572        1  \n",
       "107635      2410  120322                 4205175        3  \n",
       "107636      2410  120755                  472646        3  \n",
       "\n",
       "[107637 rows x 17 columns]"
      ],
      "text/html": "<div>\n<style scoped>\n    .dataframe tbody tr th:only-of-type {\n        vertical-align: middle;\n    }\n\n    .dataframe tbody tr th {\n        vertical-align: top;\n    }\n\n    .dataframe thead th {\n        text-align: right;\n    }\n</style>\n<table border=\"1\" class=\"dataframe\">\n  <thead>\n    <tr style=\"text-align: right;\">\n      <th></th>\n      <th>DATUM_JMT_x</th>\n      <th>DATUM_SAS_x</th>\n      <th>JAHR_WOCHE_x</th>\n      <th>JAHR_MONAT_x</th>\n      <th>VST_ID_x</th>\n      <th>ZEIT_x</th>\n      <th>PROGRAMMTEILNAHME_ID_x</th>\n      <th>N_ART_x</th>\n      <th>DATUM_JMT_ZEIT</th>\n      <th>DATUM_JMT_y</th>\n      <th>DATUM_SAS_y</th>\n      <th>JAHR_WOCHE_y</th>\n      <th>JAHR_MONAT_y</th>\n      <th>VST_ID_y</th>\n      <th>ZEIT_y</th>\n      <th>PROGRAMMTEILNAHME_ID_y</th>\n      <th>N_ART_y</th>\n    </tr>\n  </thead>\n  <tbody>\n    <tr>\n      <th>0</th>\n      <td>20190102</td>\n      <td>2019-01-02 00:00:00</td>\n      <td>201901</td>\n      <td>201901</td>\n      <td>2410</td>\n      <td>113336</td>\n      <td>2132240</td>\n      <td>2</td>\n      <td>20190102-113336</td>\n      <td>20190102</td>\n      <td>2019-01-02 00:00:00</td>\n      <td>201901</td>\n      <td>201901</td>\n      <td>2410</td>\n      <td>113336</td>\n      <td>2132240</td>\n      <td>2</td>\n    </tr>\n    <tr>\n      <th>1</th>\n      <td>20190102</td>\n      <td>2019-01-02 00:00:00</td>\n      <td>201901</td>\n      <td>201901</td>\n      <td>2410</td>\n      <td>113352</td>\n      <td>1302295</td>\n      <td>3</td>\n      <td>20190102-113352</td>\n      <td>20190102</td>\n      <td>2019-01-02 00:00:00</td>\n      <td>201901</td>\n      <td>201901</td>\n      <td>2410</td>\n      <td>113352</td>\n      <td>1302295</td>\n      <td>3</td>\n    </tr>\n    <tr>\n      <th>2</th>\n      <td>20190102</td>\n      <td>2019-01-02 00:00:00</td>\n      <td>201901</td>\n      <td>201901</td>\n      <td>2410</td>\n      <td>113953</td>\n      <td>5279153</td>\n      <td>2</td>\n      <td>20190102-113953</td>\n      <td>20190102</td>\n      <td>2019-01-02 00:00:00</td>\n      <td>201901</td>\n      <td>201901</td>\n      <td>2410</td>\n      <td>113953</td>\n      <td>5279153</td>\n      <td>2</td>\n    </tr>\n    <tr>\n      <th>3</th>\n      <td>20190102</td>\n      <td>2019-01-02 00:00:00</td>\n      <td>201901</td>\n      <td>201901</td>\n      <td>2410</td>\n      <td>114057</td>\n      <td>4933906</td>\n      <td>1</td>\n      <td>20190102-114057</td>\n      <td>20190102</td>\n      <td>2019-01-02 00:00:00</td>\n      <td>201901</td>\n      <td>201901</td>\n      <td>2410</td>\n      <td>114057</td>\n      <td>4933906</td>\n      <td>1</td>\n    </tr>\n    <tr>\n      <th>4</th>\n      <td>20190102</td>\n      <td>2019-01-02 00:00:00</td>\n      <td>201901</td>\n      <td>201901</td>\n      <td>2410</td>\n      <td>114125</td>\n      <td>4736730</td>\n      <td>1</td>\n      <td>20190102-114125</td>\n      <td>20190102</td>\n      <td>2019-01-02 00:00:00</td>\n      <td>201901</td>\n      <td>201901</td>\n      <td>2410</td>\n      <td>114125</td>\n      <td>4736730</td>\n      <td>1</td>\n    </tr>\n    <tr>\n      <th>...</th>\n      <td>...</td>\n      <td>...</td>\n      <td>...</td>\n      <td>...</td>\n      <td>...</td>\n      <td>...</td>\n      <td>...</td>\n      <td>...</td>\n      <td>...</td>\n      <td>...</td>\n      <td>...</td>\n      <td>...</td>\n      <td>...</td>\n      <td>...</td>\n      <td>...</td>\n      <td>...</td>\n      <td>...</td>\n    </tr>\n    <tr>\n      <th>107632</th>\n      <td>20191231</td>\n      <td>2019-12-31 00:00:00</td>\n      <td>202001</td>\n      <td>201912</td>\n      <td>2410</td>\n      <td>94141</td>\n      <td>5241068</td>\n      <td>2</td>\n      <td>20191231-94141</td>\n      <td>20191231</td>\n      <td>2019-12-31 00:00:00</td>\n      <td>202001</td>\n      <td>201912</td>\n      <td>2410</td>\n      <td>94141</td>\n      <td>5241068</td>\n      <td>2</td>\n    </tr>\n    <tr>\n      <th>107633</th>\n      <td>20191231</td>\n      <td>2019-12-31 00:00:00</td>\n      <td>202001</td>\n      <td>201912</td>\n      <td>2410</td>\n      <td>110722</td>\n      <td>3577253</td>\n      <td>5</td>\n      <td>20191231-110722</td>\n      <td>20191231</td>\n      <td>2019-12-31 00:00:00</td>\n      <td>202001</td>\n      <td>201912</td>\n      <td>2410</td>\n      <td>110722</td>\n      <td>3577253</td>\n      <td>5</td>\n    </tr>\n    <tr>\n      <th>107634</th>\n      <td>20191231</td>\n      <td>2019-12-31 00:00:00</td>\n      <td>202001</td>\n      <td>201912</td>\n      <td>2410</td>\n      <td>114641</td>\n      <td>4742572</td>\n      <td>1</td>\n      <td>20191231-114641</td>\n      <td>20191231</td>\n      <td>2019-12-31 00:00:00</td>\n      <td>202001</td>\n      <td>201912</td>\n      <td>2410</td>\n      <td>114641</td>\n      <td>4742572</td>\n      <td>1</td>\n    </tr>\n    <tr>\n      <th>107635</th>\n      <td>20191231</td>\n      <td>2019-12-31 00:00:00</td>\n      <td>202001</td>\n      <td>201912</td>\n      <td>2410</td>\n      <td>120322</td>\n      <td>4205175</td>\n      <td>3</td>\n      <td>20191231-120322</td>\n      <td>20191231</td>\n      <td>2019-12-31 00:00:00</td>\n      <td>202001</td>\n      <td>201912</td>\n      <td>2410</td>\n      <td>120322</td>\n      <td>4205175</td>\n      <td>3</td>\n    </tr>\n    <tr>\n      <th>107636</th>\n      <td>20191231</td>\n      <td>2019-12-31 00:00:00</td>\n      <td>202001</td>\n      <td>201912</td>\n      <td>2410</td>\n      <td>120755</td>\n      <td>472646</td>\n      <td>3</td>\n      <td>20191231-120755</td>\n      <td>20191231</td>\n      <td>2019-12-31 00:00:00</td>\n      <td>202001</td>\n      <td>201912</td>\n      <td>2410</td>\n      <td>120755</td>\n      <td>472646</td>\n      <td>3</td>\n    </tr>\n  </tbody>\n</table>\n<p>107637 rows × 17 columns</p>\n</div>"
     },
     "metadata": {},
     "execution_count": 59
    }
   ],
   "source": [
    "result"
   ]
  },
  {
   "cell_type": "code",
   "execution_count": null,
   "metadata": {},
   "outputs": [],
   "source": []
  }
 ]
}